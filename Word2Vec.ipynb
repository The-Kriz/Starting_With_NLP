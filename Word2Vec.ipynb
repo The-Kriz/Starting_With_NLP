{
 "cells": [
  {
   "cell_type": "code",
   "execution_count": 43,
   "metadata": {
    "collapsed": true,
    "pycharm": {
     "name": "#%%\n"
    }
   },
   "outputs": [],
   "source": [
    "import nltk\n",
    "from gensim.models import Word2Vec\n",
    "from nltk.corpus import stopwords\n",
    "import re"
   ]
  },
  {
   "cell_type": "code",
   "execution_count": 44,
   "outputs": [],
   "source": [
    "paragraph = \"\"\"I have three visions for India. In 3000 years of our history, people from all over the world have come and invaded us, captured ourlands,conquered our minds. From Alexander onwards, the Greeks, the Turks, the Moguls, the Portuguese, the British,the French, the Dutch, all of them came and looted us, took over what was ours. Yet we have not done this to any other nation. We have not conquered anyone. We have not grabbed their land, their culture,their history and tried to enforce our way of life on them. Why? Because we respect the freedom of others. That is why my first vision is that of freedom. I believe that India got its first vision of this in 1857, when we started the War of Independence. It is this freedom that we must protect and nurture and build on. If we are not free, no one will respect us. My second vision for India’s development. For fifty years we have been a developing nation. It is time we see ourselves as a developed nation. We are among the top 5 nations of the world in terms of GDP. We have a 10 percent growth rate in most areas. Our poverty levels are falling. Our achievements are being globally recognised today. Yet we lack the self-confidence to see ourselves as a developed nation, self-reliant and self-assured. Isn’t this incorrect? I have a third vision. India must stand up to the world. Because I believe that unless India stands up to the world, no one will respect us. Only strength respects strength. We must be strong not only as a military power but also as an economic power. Both must go hand-in-hand. My good fortune was to have worked with three great minds. Dr. Vikram Sarabhai of the Dept. of space, Professor Satish Dhawan, who succeeded him and Dr. Brahm Prakash, father of nuclear material. I was lucky to have worked with all three of them closely and consider this the great opportunity of my life. I see four milestones in my career\"\"\""
   ],
   "metadata": {
    "collapsed": false,
    "pycharm": {
     "name": "#%%\n"
    }
   }
  },
  {
   "cell_type": "code",
   "execution_count": 45,
   "outputs": [],
   "source": [
    "# Preprocessing the data\n",
    "text = re.sub(r'\\[[0-9]*\\]',' ',paragraph)\n",
    "text = re.sub(r'\\s+',' ',text)\n",
    "text = text.lower()\n",
    "text = re.sub(r'\\d',' ',text)\n",
    "text = re.sub(r'\\s+',' ',text)"
   ],
   "metadata": {
    "collapsed": false,
    "pycharm": {
     "name": "#%%\n"
    }
   }
  },
  {
   "cell_type": "code",
   "execution_count": 46,
   "outputs": [
    {
     "name": "stdout",
     "output_type": "stream",
     "text": [
      "[['i', 'have', 'three', 'visions', 'for', 'india', '.'], ['in', 'years', 'of', 'our', 'history', ',', 'people', 'from', 'all', 'over', 'the', 'world', 'have', 'come', 'and', 'invaded', 'us', ',', 'captured', 'ourlands', ',', 'conquered', 'our', 'minds', '.'], ['from', 'alexander', 'onwards', ',', 'the', 'greeks', ',', 'the', 'turks', ',', 'the', 'moguls', ',', 'the', 'portuguese', ',', 'the', 'british', ',', 'the', 'french', ',', 'the', 'dutch', ',', 'all', 'of', 'them', 'came', 'and', 'looted', 'us', ',', 'took', 'over', 'what', 'was', 'ours', '.'], ['yet', 'we', 'have', 'not', 'done', 'this', 'to', 'any', 'other', 'nation', '.'], ['we', 'have', 'not', 'conquered', 'anyone', '.'], ['we', 'have', 'not', 'grabbed', 'their', 'land', ',', 'their', 'culture', ',', 'their', 'history', 'and', 'tried', 'to', 'enforce', 'our', 'way', 'of', 'life', 'on', 'them', '.'], ['why', '?'], ['because', 'we', 'respect', 'the', 'freedom', 'of', 'others', '.'], ['that', 'is', 'why', 'my', 'first', 'vision', 'is', 'that', 'of', 'freedom', '.'], ['i', 'believe', 'that', 'india', 'got', 'its', 'first', 'vision', 'of', 'this', 'in', ',', 'when', 'we', 'started', 'the', 'war', 'of', 'independence', '.'], ['it', 'is', 'this', 'freedom', 'that', 'we', 'must', 'protect', 'and', 'nurture', 'and', 'build', 'on', '.'], ['if', 'we', 'are', 'not', 'free', ',', 'no', 'one', 'will', 'respect', 'us', '.'], ['my', 'second', 'vision', 'for', 'india', '’', 's', 'development', '.'], ['for', 'fifty', 'years', 'we', 'have', 'been', 'a', 'developing', 'nation', '.'], ['it', 'is', 'time', 'we', 'see', 'ourselves', 'as', 'a', 'developed', 'nation', '.'], ['we', 'are', 'among', 'the', 'top', 'nations', 'of', 'the', 'world', 'in', 'terms', 'of', 'gdp', '.'], ['we', 'have', 'a', 'percent', 'growth', 'rate', 'in', 'most', 'areas', '.'], ['our', 'poverty', 'levels', 'are', 'falling', '.'], ['our', 'achievements', 'are', 'being', 'globally', 'recognised', 'today', '.'], ['yet', 'we', 'lack', 'the', 'self-confidence', 'to', 'see', 'ourselves', 'as', 'a', 'developed', 'nation', ',', 'self-reliant', 'and', 'self-assured', '.'], ['isn', '’', 't', 'this', 'incorrect', '?'], ['i', 'have', 'a', 'third', 'vision', '.'], ['india', 'must', 'stand', 'up', 'to', 'the', 'world', '.'], ['because', 'i', 'believe', 'that', 'unless', 'india', 'stands', 'up', 'to', 'the', 'world', ',', 'no', 'one', 'will', 'respect', 'us', '.'], ['only', 'strength', 'respects', 'strength', '.'], ['we', 'must', 'be', 'strong', 'not', 'only', 'as', 'a', 'military', 'power', 'but', 'also', 'as', 'an', 'economic', 'power', '.'], ['both', 'must', 'go', 'hand-in-hand', '.'], ['my', 'good', 'fortune', 'was', 'to', 'have', 'worked', 'with', 'three', 'great', 'minds', '.'], ['dr.', 'vikram', 'sarabhai', 'of', 'the', 'dept', '.'], ['of', 'space', ',', 'professor', 'satish', 'dhawan', ',', 'who', 'succeeded', 'him', 'and', 'dr.', 'brahm', 'prakash', ',', 'father', 'of', 'nuclear', 'material', '.'], ['i', 'was', 'lucky', 'to', 'have', 'worked', 'with', 'all', 'three', 'of', 'them', 'closely', 'and', 'consider', 'this', 'the', 'great', 'opportunity', 'of', 'my', 'life', '.'], ['i', 'see', 'four', 'milestones', 'in', 'my', 'career']]\n"
     ]
    }
   ],
   "source": [
    "# Preparing the dataset\n",
    "sentences = nltk.sent_tokenize(text)\n",
    "sentences = [nltk.word_tokenize(sentence) for sentence in sentences]\n",
    "print(sentences)"
   ],
   "metadata": {
    "collapsed": false,
    "pycharm": {
     "name": "#%%\n"
    }
   }
  },
  {
   "cell_type": "code",
   "execution_count": 47,
   "outputs": [
    {
     "name": "stdout",
     "output_type": "stream",
     "text": [
      "[['three', 'visions', 'india'], ['years', 'history', 'people', 'world', 'come', 'invaded', 'us', 'captured', 'ourlands', 'conquered', 'minds'], ['alexander', 'onwards', 'greeks', 'turks', 'moguls', 'portuguese', 'british', 'french', 'dutch', 'came', 'looted', 'us', 'took'], ['yet', 'done', 'nation'], ['conquered', 'anyone'], ['grabbed', 'land', 'culture', 'history', 'tried', 'enforce', 'way', 'life'], [], ['respect', 'freedom', 'others'], ['first', 'vision', 'freedom'], ['believe', 'india', 'got', 'first', 'vision', 'started', 'war', 'independence'], ['freedom', 'must', 'protect', 'nurture', 'build'], ['free', 'one', 'respect', 'us'], ['second', 'vision', 'india', '’', 'development'], ['fifty', 'years', 'developing', 'nation'], ['time', 'see', 'developed', 'nation'], ['among', 'top', 'nations', 'world', 'terms', 'gdp'], ['percent', 'growth', 'rate', 'areas'], ['poverty', 'levels', 'falling'], ['achievements', 'globally', 'recognised', 'today'], ['yet', 'lack', 'self-confidence', 'see', 'developed', 'nation', 'self-reliant', 'self-assured'], ['’', 'incorrect'], ['third', 'vision'], ['india', 'must', 'stand', 'world'], ['believe', 'unless', 'india', 'stands', 'world', 'one', 'respect', 'us'], ['strength', 'respects', 'strength'], ['must', 'strong', 'military', 'power', 'also', 'economic', 'power'], ['must', 'go', 'hand-in-hand'], ['good', 'fortune', 'worked', 'three', 'great', 'minds'], ['dr.', 'vikram', 'sarabhai', 'dept'], ['space', 'professor', 'satish', 'dhawan', 'succeeded', 'dr.', 'brahm', 'prakash', 'father', 'nuclear', 'material'], ['lucky', 'worked', 'three', 'closely', 'consider', 'great', 'opportunity', 'life'], ['see', 'four', 'milestones', 'career']]\n"
     ]
    }
   ],
   "source": [
    "for i in range(len(sentences)):\n",
    "    sentences[i] = [word for word in sentences[i] if word not in stopwords.words('english')and word not in string.punctuation]\n",
    "print(sentences)"
   ],
   "metadata": {
    "collapsed": false,
    "pycharm": {
     "name": "#%%\n"
    }
   }
  },
  {
   "cell_type": "code",
   "execution_count": 48,
   "outputs": [
    {
     "name": "stdout",
     "output_type": "stream",
     "text": [
      "['india', 'must', 'world', 'us', 'nation', 'vision', 'see', 'respect', 'freedom', 'three', '’', 'worked', 'developed', 'believe', 'first', 'life', 'yet', 'strength', 'power', 'minds', 'conquered', 'one', 'great', 'dr.', 'history', 'years', 'nuclear', 'culture', 'tried', 'enforce', 'way', 'lucky', 'material', 'others', 'four', 'grabbed', 'visions', 'got', 'started', 'war', 'independence', 'father', 'protect', 'nurture', 'land', 'anyone', 'consider', 'closely', 'captured', 'ourlands', 'invaded', 'alexander', 'come', 'onwards', 'greeks', 'turks', 'opportunity', 'moguls', 'portuguese', 'british', 'french', 'dutch', 'build', 'looted', 'took', 'people', 'done', 'came', 'prakash', 'free', 'go', 'incorrect', 'third', 'stand', 'unless', 'stands', 'respects', 'strong', 'military', 'also', 'economic', 'hand-in-hand', 'self-reliant', 'good', 'fortune', 'vikram', 'sarabhai', 'dept', 'space', 'professor', 'satish', 'dhawan', 'succeeded', 'self-assured', 'self-confidence', 'second', 'gdp', 'brahm', 'development', 'fifty', 'developing', 'time', 'milestones', 'among', 'top', 'nations', 'terms', 'percent', 'lack', 'growth', 'rate', 'areas', 'poverty', 'levels', 'falling', 'achievements', 'globally', 'recognised', 'today', 'career']\n"
     ]
    }
   ],
   "source": [
    "# Training the Word2Vec model\n",
    "model = Word2Vec(sentences, min_count=1)\n",
    "words = list(model.wv.index_to_key)\n",
    "print(words)"
   ],
   "metadata": {
    "collapsed": false,
    "pycharm": {
     "name": "#%%\n"
    }
   }
  },
  {
   "cell_type": "code",
   "execution_count": 49,
   "outputs": [
    {
     "name": "stdout",
     "output_type": "stream",
     "text": [
      "[-1.7238245e-03  6.4123739e-03 -9.2787473e-03 -9.1607366e-03\n",
      " -5.2062357e-03  9.3949825e-04 -7.1559511e-03 -9.4425837e-03\n",
      " -8.9015318e-03 -4.8734754e-04  7.4103815e-03 -8.3986456e-03\n",
      " -5.3458149e-03  1.5167234e-03  3.3234726e-03 -8.4764427e-03\n",
      "  7.8581069e-03 -8.2304934e-03  4.7210571e-03  9.4156694e-03\n",
      "  5.6369803e-03  6.1774729e-03  8.2432758e-03  3.4535378e-03\n",
      " -7.1514579e-03  5.7603484e-03 -8.3053121e-03 -5.7452265e-03\n",
      "  5.8956421e-03 -7.9247300e-03 -5.8578295e-03 -3.5732640e-03\n",
      "  3.3997314e-03  5.1974147e-03  2.0548548e-03  5.1273261e-03\n",
      " -2.6242598e-03  4.3487432e-03 -7.0466720e-03 -1.6605720e-03\n",
      " -7.7423863e-03  1.5470170e-04  4.7007417e-03  4.8046852e-03\n",
      " -4.6567386e-03  1.7450475e-03  7.8104218e-03 -5.5729374e-03\n",
      " -3.7822172e-03 -5.9624604e-04 -4.7131102e-03  8.6839041e-03\n",
      "  7.5577199e-03  9.2180008e-03  9.3544833e-03 -8.4384028e-03\n",
      " -4.7258980e-04 -7.5985077e-03 -4.8275976e-03 -8.8517489e-03\n",
      "  3.4271833e-03  9.1677131e-05 -6.9026332e-03  7.9772882e-03\n",
      "  9.5797802e-04  3.1010993e-04 -3.5708691e-03 -3.3433300e-03\n",
      " -2.6745584e-03  7.6379054e-03  2.3907619e-03 -5.1597566e-03\n",
      "  4.7512413e-03  9.8247209e-04 -2.7236766e-03  7.7088885e-03\n",
      " -3.9703315e-03  7.4506621e-03 -4.2113801e-03 -7.3468708e-03\n",
      " -4.5013982e-03 -3.9126300e-03 -7.2470942e-04 -1.8479135e-03\n",
      "  5.1052915e-03  5.4426291e-03 -1.7304724e-03  3.7490341e-03\n",
      " -2.0096181e-03  7.4754941e-04 -1.3471511e-03 -2.4544573e-03\n",
      " -4.7144359e-03 -4.2593428e-03  1.3518073e-04  1.6600660e-03\n",
      " -9.4519053e-03  6.0570636e-03 -1.6780948e-03 -2.9922302e-03]\n"
     ]
    }
   ],
   "source": [
    "# Finding Word Vectors\n",
    "vector = model.wv['war']\n",
    "print(vector)"
   ],
   "metadata": {
    "collapsed": false,
    "pycharm": {
     "name": "#%%\n"
    }
   }
  },
  {
   "cell_type": "code",
   "execution_count": 50,
   "outputs": [
    {
     "name": "stdout",
     "output_type": "stream",
     "text": [
      "[('years', 0.25304239988327026), ('looted', 0.243973508477211), ('military', 0.1911623179912567), ('second', 0.1856127679347992), ('father', 0.18315085768699646), ('history', 0.17885489761829376), ('fifty', 0.16916200518608093), ('gdp', 0.1398322433233261), ('today', 0.1285950094461441), ('stands', 0.12553295493125916)]\n"
     ]
    }
   ],
   "source": [
    "# Most similar words\n",
    "similar = model.wv.most_similar('strong')\n",
    "print(similar)"
   ],
   "metadata": {
    "collapsed": false,
    "pycharm": {
     "name": "#%%\n"
    }
   }
  }
 ],
 "metadata": {
  "kernelspec": {
   "display_name": "Python 3",
   "language": "python",
   "name": "python3"
  },
  "language_info": {
   "codemirror_mode": {
    "name": "ipython",
    "version": 2
   },
   "file_extension": ".py",
   "mimetype": "text/x-python",
   "name": "python",
   "nbconvert_exporter": "python",
   "pygments_lexer": "ipython2",
   "version": "2.7.6"
  }
 },
 "nbformat": 4,
 "nbformat_minor": 0
}